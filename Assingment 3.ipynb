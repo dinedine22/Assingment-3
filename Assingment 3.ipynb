{
 "cells": [
  {
   "cell_type": "markdown",
   "id": "47939032",
   "metadata": {},
   "source": [
    "# Write a python function to sum all the numbers in a list."
   ]
  },
  {
   "cell_type": "code",
   "execution_count": 10,
   "id": "4cec0578",
   "metadata": {},
   "outputs": [
    {
     "name": "stdout",
     "output_type": "stream",
     "text": [
      "give number  1\n",
      "give number 2\n",
      "give number3\n",
      "give number4\n",
      "sum of the elements in a list:  10\n"
     ]
    }
   ],
   "source": [
    "x1=int(input(\"give number  \"))\n",
    "x2=int(input(\"give number \"))\n",
    "x3=int(input(\"give number\"))\n",
    "x4=int(input(\"give number\"))\n",
    "sum=0\n",
    "list=[x1,x2,x3,x4]\n",
    "for i in range(0,len(list)):\n",
    "    sum=sum+list[i]\n",
    "print(\"sum of the elements in a list: \",sum)"
   ]
  },
  {
   "cell_type": "markdown",
   "id": "1694b2fd",
   "metadata": {},
   "source": [
    "# Write a python program to reverse a string."
   ]
  },
  {
   "cell_type": "code",
   "execution_count": 11,
   "id": "2557e04f",
   "metadata": {},
   "outputs": [
    {
     "name": "stdout",
     "output_type": "stream",
     "text": [
      "enter the string dinesh123\n",
      "reverse of string is  321hsenid\n"
     ]
    }
   ],
   "source": [
    "def reverse(str):\n",
    "    if len(str)==0:\n",
    "        return str\n",
    "    else:\n",
    "        return reverse(str[1:])+(str[0])\n",
    "a=str(input(\"enter the string \"))\n",
    "print(\"reverse of string is \",reverse(a))"
   ]
  },
  {
   "cell_type": "markdown",
   "id": "e3b1b7b7",
   "metadata": {},
   "source": [
    "# Write a python function that accepts a string and calculate the number of the upper case letters and lower case letters."
   ]
  },
  {
   "cell_type": "code",
   "execution_count": 38,
   "id": "71768eec",
   "metadata": {},
   "outputs": [
    {
     "name": "stdout",
     "output_type": "stream",
     "text": [
      "enter a stringGooD\n",
      "original str : GooD\n",
      "no. of UPPER_CASE :  2\n",
      "no. of LOWER_CASE :  2\n"
     ]
    }
   ],
   "source": [
    "def str(a):\n",
    "    d={\"UPPER_CASE\":0,\"LOWER_CASE\":0}\n",
    "    for i in a:\n",
    "            if i.isupper():\n",
    "                d[\"UPPER_CASE\"] +=1\n",
    "            else:\n",
    "                d[\"LOWER_CASE\"]+=1\n",
    "    print(\"original str :\",a)            \n",
    "    print(\"no. of UPPER_CASE : \" ,d[\"UPPER_CASE\"])\n",
    "    print(\"no. of LOWER_CASE : \",d[\"LOWER_CASE\"])\n",
    "str(input(\"enter a string\"))"
   ]
  },
  {
   "cell_type": "code",
   "execution_count": null,
   "id": "c518bd97",
   "metadata": {},
   "outputs": [],
   "source": []
  },
  {
   "cell_type": "code",
   "execution_count": null,
   "id": "795ac800",
   "metadata": {},
   "outputs": [],
   "source": []
  },
  {
   "cell_type": "code",
   "execution_count": null,
   "id": "ee2198c7",
   "metadata": {},
   "outputs": [],
   "source": []
  }
 ],
 "metadata": {
  "kernelspec": {
   "display_name": "Python 3 (ipykernel)",
   "language": "python",
   "name": "python3"
  },
  "language_info": {
   "codemirror_mode": {
    "name": "ipython",
    "version": 3
   },
   "file_extension": ".py",
   "mimetype": "text/x-python",
   "name": "python",
   "nbconvert_exporter": "python",
   "pygments_lexer": "ipython3",
   "version": "3.9.13"
  }
 },
 "nbformat": 4,
 "nbformat_minor": 5
}
